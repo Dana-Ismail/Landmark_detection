{
 "cells": [
  {
   "cell_type": "code",
   "execution_count": 5,
   "metadata": {},
   "outputs": [],
   "source": [
    "import cv2\n",
    "import numpy as np\n",
    "from pandas.io.parsers import read_csv\n",
    "import matplotlib.pyplot as plt\n",
    "from PIL import Image\n",
    "from sklearn.utils import shuffle\n",
    "from tensorflow.keras.layers import Dense, Flatten, Conv2D, MaxPool2D, Dropout\n",
    "from keras import models\n",
    "import keras_tuner as kt"
   ]
  },
  {
   "cell_type": "code",
   "execution_count": null,
   "metadata": {},
   "outputs": [],
   "source": [
    "def load_data(validation_split):\n",
    "\n",
    "    # Load data from csv file into data frame, drop all rows that have missing values\n",
    "    df = read_csv(\"training.csv\")\n",
    "    print(df[\"Image\"].count())\n",
    "    df = df.dropna()\n",
    "    print(df[\"Image\"].count())\n",
    "\n",
    "    # Convert the rows of the image column from pixel values separated by spaces to numpy arrays\n",
    "    df[\"Image\"] = df[\"Image\"].apply(lambda img: np.fromstring(img, sep=\" \"))\n",
    "\n",
    "    # Create numpy matrix from image column by stacking the rows vertically\n",
    "    X_data = np.vstack(df[\"Image\"].values)\n",
    "    # Normalize pixel values to (0, 1) range\n",
    "    X_data = X_data / 255\n",
    "    # Convert to float32, which is the default for Keras\n",
    "    X_data = X_data.astype(\"float32\")\n",
    "    # Reshape each row from one dimensional arrays to (height, width, num_channels) = (96, 96, 1)\n",
    "    X_data = X_data.reshape(-1, 96, 96, 1)\n",
    "    # Extract labels representing the coordinates of facial landmarks\n",
    "    Y_data = df[df.columns[:-1]].values\n",
    "\n",
    "    # Normalize coordinates to (0, 1) range\n",
    "    Y_data = Y_data / 96\n",
    "    Y_data = Y_data.astype(\"float32\")\n",
    "\n",
    "    # Shuffle data\n",
    "    X_data, Y_data = shuffle(X_data, Y_data)\n",
    "\n",
    "    # Split data into training set and validation set\n",
    "    split_index = int(X_data.shape[0] * (1 - validation_split))\n",
    "    X_train = X_data[:split_index]\n",
    "    Y_train = Y_data[:split_index]\n",
    "    X_val = X_data[split_index:]\n",
    "    Y_val = Y_data[split_index:]\n",
    "\n",
    "    return X_train, Y_train, X_val, Y_val"
   ]
  }
 ],
 "metadata": {
  "kernelspec": {
   "display_name": "Python 3",
   "language": "python",
   "name": "python3"
  },
  "language_info": {
   "codemirror_mode": {
    "name": "ipython",
    "version": 3
   },
   "file_extension": ".py",
   "mimetype": "text/x-python",
   "name": "python",
   "nbconvert_exporter": "python",
   "pygments_lexer": "ipython3",
   "version": "3.10.7"
  },
  "orig_nbformat": 4
 },
 "nbformat": 4,
 "nbformat_minor": 2
}
